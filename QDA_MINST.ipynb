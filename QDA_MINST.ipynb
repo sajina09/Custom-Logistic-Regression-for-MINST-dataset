{
 "cells": [
  {
   "cell_type": "code",
   "execution_count": 1,
   "id": "432d7d5a-1333-4ea0-93bb-6739c8cfb11c",
   "metadata": {},
   "outputs": [],
   "source": [
    "import numpy as np\n",
    "import pandas as pd"
   ]
  },
  {
   "cell_type": "code",
   "execution_count": 2,
   "id": "62a12fcc",
   "metadata": {},
   "outputs": [],
   "source": [
    "# Load the training dataset\n",
    "train_csv_path = './archive/sign_mnist_train.csv'\n",
    "train_data = pd.read_csv(train_csv_path)\n",
    "\n",
    "# Load the testing dataset\n",
    "test_csv_path = './archive/sign_mnist_test.csv'\n",
    "test_data = pd.read_csv(test_csv_path)\n"
   ]
  },
  {
   "cell_type": "code",
   "execution_count": 3,
   "id": "604d34a3-3196-4678-8093-8c3a1fad13e2",
   "metadata": {},
   "outputs": [],
   "source": [
    "# Separate features and labels for training\n",
    "X_train = train_data.iloc[:, 1:].values  # Pixel values\n",
    "Y_train = train_data.iloc[:, 0].values  # Labels\n",
    "\n",
    "\n",
    "# Separate features and labels for testing\n",
    "X_test = test_data.iloc[:, 1:].values\n",
    "Y_test = test_data.iloc[:, 0].values"
   ]
  },
  {
   "cell_type": "code",
   "execution_count": 4,
   "id": "1a0aaa76-e1e4-4b47-80dc-d7491053843e",
   "metadata": {},
   "outputs": [],
   "source": [
    "# Define a custom QDA class with options for covariance type\n",
    "class CustomQDA:\n",
    "    def __init__(self, covariance_type=\"general\"):\n",
    "        assert covariance_type in [\"general\", \"independent\", \"isotropic\"], \"Invalid covariance type\"\n",
    "        self.covariance_type = covariance_type\n",
    "        self.means = {}\n",
    "        self.covariances = {}\n",
    "        self.priors = {}\n",
    "\n",
    "    def fit(self, X, y):\n",
    "        classes = np.unique(y)\n",
    "        for c in classes:\n",
    "            X_c = X[y == c]\n",
    "            self.means[c] = np.mean(X_c, axis=0)\n",
    "            self.priors[c] = X_c.shape[0] / X.shape[0]\n",
    "\n",
    "            # Covariance matrix types\n",
    "            if self.covariance_type == \"general\":\n",
    "                self.covariances[c] = np.cov(X_c, rowvar=False)\n",
    "            elif self.covariance_type == \"independent\":\n",
    "                self.covariances[c] = np.diag(np.var(X_c, axis=0))  # Diagonal covariance matrix\n",
    "            elif self.covariance_type == \"isotropic\":\n",
    "                variance = np.mean(np.var(X_c, axis=0))  # Average variance\n",
    "                self.covariances[c] = variance * np.identity(X_c.shape[1])  # Scalar variance matrix\n",
    "\n",
    "    def predict(self, X):\n",
    "        return np.array([self._classify(x) for x in X])\n",
    "\n",
    "    def _classify(self, x):\n",
    "        scores = {}\n",
    "        for c in self.means:\n",
    "            mean = self.means[c]\n",
    "            covariance = self.covariances[c]\n",
    "            prior = self.priors[c]\n",
    "            diff = x - mean\n",
    "            inv_cov = np.linalg.inv(covariance)\n",
    "            log_det_cov = np.log(np.linalg.det(covariance))\n",
    "            score = -0.5 * (diff.T @ inv_cov @ diff) - 0.5 * log_det_cov + np.log(prior)\n",
    "            scores[c] = score\n",
    "        return max(scores, key=scores.get)"
   ]
  },
  {
   "cell_type": "code",
   "execution_count": null,
   "id": "d81c8051-aa00-40e2-a5e3-84737d8abad0",
   "metadata": {},
   "outputs": [
    {
     "name": "stderr",
     "output_type": "stream",
     "text": [
      "/var/folders/j_/592wcl6n2sxd69wqbjfgp4mw0000gn/T/ipykernel_18334/2670841640.py:37: RuntimeWarning: divide by zero encountered in log\n",
      "  log_det_cov = np.log(np.linalg.det(covariance))\n"
     ]
    }
   ],
   "source": [
    "from sklearn.preprocessing import StandardScaler\n",
    "\n",
    "\n",
    "# Normalize the data\n",
    "scaler = StandardScaler()\n",
    "X_train = scaler.fit_transform(X_train)\n",
    "X_test = scaler.transform(X_test)\n",
    "\n",
    "# Train CustomQDA model\n",
    "qda = CustomQDA(covariance_type=\"general\")\n",
    "qda.fit(X_train, Y_train)\n",
    "\n",
    "# Predict test data\n",
    "y_pred = qda.predict(X_test)\n",
    "\n",
    "# Evaluate accuracy\n",
    "accuracy = np.mean(y_pred == y_test)\n",
    "print(f\"Test Accuracy: {accuracy:.2f}\")\n"
   ]
  },
  {
   "cell_type": "code",
   "execution_count": null,
   "id": "e5198d97-08e1-41d9-94a2-0788fd53ded0",
   "metadata": {},
   "outputs": [],
   "source": []
  }
 ],
 "metadata": {
  "kernelspec": {
   "display_name": "Python 3 (ipykernel)",
   "language": "python",
   "name": "python3"
  },
  "language_info": {
   "codemirror_mode": {
    "name": "ipython",
    "version": 3
   },
   "file_extension": ".py",
   "mimetype": "text/x-python",
   "name": "python",
   "nbconvert_exporter": "python",
   "pygments_lexer": "ipython3",
   "version": "3.9.12"
  }
 },
 "nbformat": 4,
 "nbformat_minor": 5
}
